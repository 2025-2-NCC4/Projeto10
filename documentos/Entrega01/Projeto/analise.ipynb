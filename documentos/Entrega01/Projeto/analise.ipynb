{
  "nbformat": 4,
  "nbformat_minor": 0,
  "metadata": {
    "colab": {
      "provenance": []
    },
    "kernelspec": {
      "name": "python3",
      "display_name": "Python 3"
    },
    "language_info": {
      "name": "python"
    }
  },
  "cells": [
    {
      "cell_type": "markdown",
      "source": [
        "## Coleta de Dados"
      ],
      "metadata": {
        "id": "3quzsHPXafg0"
      }
    },
    {
      "cell_type": "code",
      "source": [
        "# ETAPA: Coletar dados Iniciais (COLAB)\n",
        "import pandas as pd\n",
        "import numpy as np\n",
        "\n",
        "print(\"--- Iniciando Coleta de Dados ---\")\n",
        "try:\n",
        "    players = pd.read_csv(\"PicMoney-Base_Cadastral_de_Players.csv\", encoding='latin-1', sep=';')\n",
        "    transacoes = pd.read_csv(\"PicMoney-Base_de_Transa__es_-_Cupons_Capturados.csv\", encoding='latin-1', sep=';')\n",
        "    pedestres = pd.read_csv(\"PicMoney-Base_Simulada_-_Pedestres_Av__Paulista.csv\", encoding='latin-1', sep=';')\n",
        "    lojas = pd.read_csv(\"PicMoney-Massa_de_Teste_com_Lojas_e_Valores.csv\", encoding='latin-1', sep=';')\n",
        "    print(\"Sucesso! Os 4 arquivos CSV foram carregados.\")\n",
        "except FileNotFoundError:\n",
        "    print(\"ERRO: Um ou mais arquivos CSV não foram encontrados.\")"
      ],
      "metadata": {
        "colab": {
          "base_uri": "https://localhost:8080/"
        },
        "id": "HH_2UXmnGNOM",
        "outputId": "d3c69314-215b-4e34-ae82-dd201c76ec9c"
      },
      "execution_count": 1,
      "outputs": [
        {
          "output_type": "stream",
          "name": "stdout",
          "text": [
            "--- Iniciando Coleta de Dados ---\n",
            "Sucesso! Os 4 arquivos CSV foram carregados.\n"
          ]
        }
      ]
    },
    {
      "cell_type": "markdown",
      "source": [
        "## Descrição e Verificação da Qualidade dos Dados Brutos"
      ],
      "metadata": {
        "id": "W8CeLnXYajDq"
      }
    },
    {
      "cell_type": "code",
      "source": [
        "# ETAPAS: Descrever os Dados e Verificar a Qualidade dos Dados (COLAB)\n",
        "# Objetivo: Gerar um resumo estatístico para cada tabela antes da limpeza.\n",
        "\n",
        "def resumo(df, nome_df):\n",
        "    print(f\"\\n--- Resumo da Tabela '{nome_df}' (Dados Brutos) ---\")\n",
        "    resumo_df = pd.DataFrame({\n",
        "        \"Tipo de Dado\": df.dtypes,\n",
        "        \"Valores Nulos (NA)\": df.isna().sum(),\n",
        "        \"% Preenchido\": (df.notna().mean() * 100).round(2),\n",
        "        \"Valores Distintos\": df.nunique()\n",
        "    })\n",
        "    print(resumo_df)\n",
        "    return resumo_df\n",
        "\n",
        "# Gerando o resumo para cada uma das 4 tabelas\n",
        "resumo_players = resumo(players, \"Players\")\n",
        "resumo_transacoes = resumo(transacoes, \"Transacoes\")\n",
        "resumo_pedestres = resumo(pedestres, \"Pedestres\")\n",
        "resumo_lojas = resumo(lojas, \"Lojas (Massa de Teste)\")"
      ],
      "metadata": {
        "colab": {
          "base_uri": "https://localhost:8080/"
        },
        "id": "0YS2BEoXHivo",
        "outputId": "a2fe782e-ce4a-4fc3-cebc-af3409b07a54"
      },
      "execution_count": 2,
      "outputs": [
        {
          "output_type": "stream",
          "name": "stdout",
          "text": [
            "\n",
            "--- Resumo da Tabela 'Players' (Dados Brutos) ---\n",
            "                      Tipo de Dado  Valores Nulos (NA)  % Preenchido  \\\n",
            "celular                     object                   0        100.00   \n",
            "data_nascimento             object                   0        100.00   \n",
            "idade                        int64                   0        100.00   \n",
            "sexo                        object                   0        100.00   \n",
            "cidade_residencial          object                   0        100.00   \n",
            "bairro_residencial          object                   0        100.00   \n",
            "cidade_trabalho             object                3969         60.31   \n",
            "bairro_trabalho             object                3969         60.31   \n",
            "cidade_escola               object                6932         30.68   \n",
            "bairro_escola               object                6932         30.68   \n",
            "categoria_frequentada       object                   0        100.00   \n",
            "\n",
            "                       Valores Distintos  \n",
            "celular                             9999  \n",
            "data_nascimento                     8346  \n",
            "idade                                 76  \n",
            "sexo                                   3  \n",
            "cidade_residencial                   530  \n",
            "bairro_residencial                    21  \n",
            "cidade_trabalho                        1  \n",
            "bairro_trabalho                       21  \n",
            "cidade_escola                          1  \n",
            "bairro_escola                         21  \n",
            "categoria_frequentada                 29  \n",
            "\n",
            "--- Resumo da Tabela 'Transacoes' (Dados Brutos) ---\n",
            "                          Tipo de Dado  Valores Nulos (NA)  % Preenchido  \\\n",
            "celular                         object                   0        100.00   \n",
            "data                            object                   0        100.00   \n",
            "hora                            object                   0        100.00   \n",
            "nome_estabelecimento            object                   0        100.00   \n",
            "bairro_estabelecimento          object                   0        100.00   \n",
            "categoria_estabelecimento       object                   0        100.00   \n",
            "id_campanha                     object                   0        100.00   \n",
            "id_cupom                        object                   0        100.00   \n",
            "tipo_cupom                      object                   0        100.00   \n",
            "produto                         object               66672         33.33   \n",
            "valor_cupom                    float64                   0        100.00   \n",
            "repasse_picmoney               float64                   0        100.00   \n",
            "\n",
            "                           Valores Distintos  \n",
            "celular                                 4813  \n",
            "data                                      31  \n",
            "hora                                      65  \n",
            "nome_estabelecimento                      33  \n",
            "bairro_estabelecimento                    21  \n",
            "categoria_estabelecimento                 29  \n",
            "id_campanha                             9000  \n",
            "id_cupom                               94680  \n",
            "tipo_cupom                                 3  \n",
            "produto                                  182  \n",
            "valor_cupom                            60201  \n",
            "repasse_picmoney                       24041  \n",
            "\n",
            "--- Resumo da Tabela 'Pedestres' (Dados Brutos) ---\n",
            "                       Tipo de Dado  Valores Nulos (NA)  % Preenchido  \\\n",
            "celular                      object                   0        100.00   \n",
            "data                         object                   0        100.00   \n",
            "horario                      object                   0        100.00   \n",
            "local                        object                   0        100.00   \n",
            "latitude                     object                   0        100.00   \n",
            "longitude                    object                   0        100.00   \n",
            "tipo_celular                 object                   0        100.00   \n",
            "modelo_celular               object                   0        100.00   \n",
            "possui_app_picmoney          object                   0        100.00   \n",
            "data_ultima_compra           object               40043         59.96   \n",
            "ultimo_tipo_cupom            object               40043         59.96   \n",
            "ultimo_valor_capturado      float64               40043         59.96   \n",
            "ultimo_tipo_loja             object               40043         59.96   \n",
            "idade                         int64                   0        100.00   \n",
            "sexo                         object                   0        100.00   \n",
            "\n",
            "                        Valores Distintos  \n",
            "celular                             99935  \n",
            "data                                    1  \n",
            "horario                                65  \n",
            "local                                  10  \n",
            "latitude                           100000  \n",
            "longitude                          100000  \n",
            "tipo_celular                            2  \n",
            "modelo_celular                         10  \n",
            "possui_app_picmoney                     2  \n",
            "data_ultima_compra                     30  \n",
            "ultimo_tipo_cupom                       3  \n",
            "ultimo_valor_capturado              34527  \n",
            "ultimo_tipo_loja                        8  \n",
            "idade                                  55  \n",
            "sexo                                    3  \n",
            "\n",
            "--- Resumo da Tabela 'Lojas (Massa de Teste)' (Dados Brutos) ---\n",
            "               Tipo de Dado  Valores Nulos (NA)  % Preenchido  \\\n",
            "numero_celular       object                   0         100.0   \n",
            "data_captura         object                   0         100.0   \n",
            "tipo_cupom           object                   0         100.0   \n",
            "tipo_loja            object                   0         100.0   \n",
            "local_captura        object                   0         100.0   \n",
            "latitude             object                   0         100.0   \n",
            "longitude            object                   0         100.0   \n",
            "nome_loja            object                   0         100.0   \n",
            "endereco_loja        object                   0         100.0   \n",
            "valor_compra        float64                   0         100.0   \n",
            "valor_cupom         float64                   0         100.0   \n",
            "\n",
            "                Valores Distintos  \n",
            "numero_celular               9999  \n",
            "data_captura                   31  \n",
            "tipo_cupom                      3  \n",
            "tipo_loja                       8  \n",
            "local_captura                   7  \n",
            "latitude                    10000  \n",
            "longitude                   10000  \n",
            "nome_loja                      15  \n",
            "endereco_loja                  14  \n",
            "valor_compra                 9498  \n",
            "valor_cupom                  6503  \n"
          ]
        }
      ]
    },
    {
      "cell_type": "markdown",
      "source": [
        "## Limpeza e Tratamento dos Dados"
      ],
      "metadata": {
        "id": "ji_A1DHFaqfS"
      }
    },
    {
      "cell_type": "code",
      "source": [
        "# ETAPA: Limpeza e Tratamento (COLAB)\n",
        "# Objetivo: Aplicar as correções necessárias nos dados.\n",
        "\n",
        "print(\"\\n--- Iniciando Limpeza e Tratamento de Dados ---\")\n",
        "\n",
        "# Criando cópias para preservar os dataframes originais\n",
        "players_clean = players.copy()\n",
        "transacoes_clean = transacoes.copy()\n",
        "lojas_clean = lojas.copy()\n",
        "\n",
        "# Limpeza 'players_clean'\n",
        "players_clean['data_nascimento'] = pd.to_datetime(players_clean['data_nascimento'], format='%d/%m/%Y', errors='coerce')\n",
        "players_clean.fillna('Não Informado', inplace=True)\n",
        "\n",
        "# Limpeza 'transacoes_clean'\n",
        "transacoes_clean['data_hora'] = pd.to_datetime(transacoes_clean['data'] + ' ' + transacoes_clean['hora'], format='%d/%m/%Y %H:%M:%S', errors='coerce')\n",
        "transacoes_clean.drop(columns=['data', 'hora'], inplace=True)\n",
        "\n",
        "# Limpeza 'lojas_clean'\n",
        "lojas_clean.rename(columns={'numero_celular': 'celular'}, inplace=True)\n",
        "lojas_clean['data_captura'] = pd.to_datetime(lojas_clean['data_captura'], format='%d/%m/%Y', errors='coerce')\n",
        "lojas_clean.dropna(subset=['valor_compra', 'valor_cupom'], inplace=True)\n",
        "\n",
        "print(\"Limpeza concluída.\")"
      ],
      "metadata": {
        "colab": {
          "base_uri": "https://localhost:8080/"
        },
        "id": "g7MqO_X3H9KB",
        "outputId": "f6526587-3b9e-4385-bb1f-958e8a63c805"
      },
      "execution_count": 3,
      "outputs": [
        {
          "output_type": "stream",
          "name": "stdout",
          "text": [
            "\n",
            "--- Iniciando Limpeza e Tratamento de Dados ---\n",
            "Limpeza concluída.\n"
          ]
        }
      ]
    },
    {
      "cell_type": "markdown",
      "source": [
        "## Análise Exploratória (Relações de Dados)"
      ],
      "metadata": {
        "id": "4duolVYvatpK"
      }
    },
    {
      "cell_type": "code",
      "source": [
        "# ETAPA: Explorar os Dados (COLAB)\n",
        "# Objetivo: Unir as bases e gerar tabelas que mostram relações entre as variáveis.\n",
        "\n",
        "print(\"\\n--- Iniciando Análise e Relações dos Dados (com dados limpos) ---\")\n",
        "\n",
        "# Unindo a base de lojas (financeira) com a de players (demográfica)\n",
        "df_analise_financeira = pd.merge(lojas_clean, players_clean, on='celular', how='left')\n",
        "df_analise_financeira.dropna(subset=['idade'], inplace=True)\n",
        "df_analise_financeira['faixa_etaria'] = pd.cut(df_analise_financeira['idade'], bins=[0, 18, 25, 35, 50, 65, 100], labels=['0-18', '19-25', '26-35', '36-50', '51-65', '65+'], right=False)\n",
        "\n",
        "# Relação 1: Gasto Médio (Ticket Médio) por Faixa Etária\n",
        "print(\"\\n--> Relação: Gasto Médio por Compra (Ticket Médio) por Faixa Etária\")\n",
        "print(df_analise_financeira.groupby('faixa_etaria')['valor_compra'].mean().round(2))\n",
        "\n",
        "# Relação 2: Análise Financeira por Tipo de Cupom\n",
        "print(\"\\n--> Relação: Análise Financeira por Tipo de Cupom\")\n",
        "print(df_analise_financeira.groupby('tipo_cupom').agg(Receita_Total=('valor_compra', 'sum'), Custo_Total_Cupons=('valor_cupom', 'sum')))"
      ],
      "metadata": {
        "colab": {
          "base_uri": "https://localhost:8080/"
        },
        "id": "oytsWeOcIB-A",
        "outputId": "bfec09b6-197c-4729-fbb7-c72fbf25aed0"
      },
      "execution_count": 4,
      "outputs": [
        {
          "output_type": "stream",
          "name": "stdout",
          "text": [
            "\n",
            "--- Iniciando Análise e Relações dos Dados (com dados limpos) ---\n",
            "\n",
            "--> Relação: Gasto Médio por Compra (Ticket Médio) por Faixa Etária\n",
            "faixa_etaria\n",
            "0-18        NaN\n",
            "19-25       NaN\n",
            "26-35    249.27\n",
            "36-50       NaN\n",
            "51-65    307.22\n",
            "65+         NaN\n",
            "Name: valor_compra, dtype: float64\n",
            "\n",
            "--> Relação: Análise Financeira por Tipo de Cupom\n",
            "            Receita_Total  Custo_Total_Cupons\n",
            "tipo_cupom                                   \n",
            "Cashback           249.27               12.46\n",
            "Desconto           307.22               77.18\n"
          ]
        },
        {
          "output_type": "stream",
          "name": "stderr",
          "text": [
            "/tmp/ipython-input-1711791396.py:13: FutureWarning: The default of observed=False is deprecated and will be changed to True in a future version of pandas. Pass observed=False to retain current behavior or observed=True to adopt the future default and silence this warning.\n",
            "  print(df_analise_financeira.groupby('faixa_etaria')['valor_compra'].mean().round(2))\n"
          ]
        }
      ]
    }
  ]
}